{
  "nbformat": 4,
  "nbformat_minor": 0,
  "metadata": {
    "colab": {
      "provenance": [],
      "toc_visible": true
    },
    "kernelspec": {
      "name": "python3",
      "display_name": "Python 3"
    }
  },
  "cells": [
    {
      "cell_type": "markdown",
      "metadata": {
        "id": "KJqp9AANOCtf"
      },
      "source": [
        "<img src=\"https://raw.githubusercontent.com/andre-marcos-perez/ebac-course-utils/main/media/logo/newebac_logo_black_half.png\" alt=\"ebac-logo\">\n",
        "\n",
        "---\n",
        "\n",
        "# **Módulo** | Análise de Dados: Data Wrangling II\n",
        "Caderno de **Exercícios**<br>\n",
        "Professor [André Perez](https://www.linkedin.com/in/andremarcosperez/)\n",
        "\n",
        "---"
      ]
    },
    {
      "cell_type": "markdown",
      "metadata": {
        "id": "d9jDtUbDOE1-"
      },
      "source": [
        "# **Tópicos**\n",
        "\n",
        "<ol type=\"1\">\n",
        "  <li>Agregação e Ordenação;</li>\n",
        "  <li>Combinação;</li>\n",
        "  <li>Técnicas Avançadas.</li>\n",
        "</ol>"
      ]
    },
    {
      "cell_type": "markdown",
      "metadata": {
        "id": "SmoHgt-lwkpD"
      },
      "source": [
        "---"
      ]
    },
    {
      "cell_type": "markdown",
      "metadata": {
        "id": "GABI6OW8OfQ2"
      },
      "source": [
        "# **Exercícios**"
      ]
    },
    {
      "cell_type": "markdown",
      "metadata": {
        "id": "45DbYPgFhuR7"
      },
      "source": [
        "Neste exercícios, vamos trabalhar com dados geográficos, demográficos e econômicos do Brasil. Vamos manipular e combinar dados de duas frentes distintas para poder responder perguntas de negócios."
      ]
    },
    {
      "cell_type": "markdown",
      "metadata": {
        "id": "GWgNoJN8DHyY"
      },
      "source": [
        "## 1\\. Data Wrangling"
      ]
    },
    {
      "cell_type": "markdown",
      "metadata": {
        "id": "E30KnCdKRdYl"
      },
      "source": [
        "### **1.1. Estados**"
      ]
    },
    {
      "cell_type": "markdown",
      "metadata": {
        "id": "w2q1apyNYHbu"
      },
      "source": [
        "O arquivo `estados-bruto.xml` contém informações sobre estados (nome, sigla e região). **Carregue-o na máquina virtual do Google Colab**. Um arquivo do tipo XML é similar a um arquivo do tipo HTML, exemplo do estado do Acre:"
      ]
    },
    {
      "cell_type": "markdown",
      "metadata": {
        "id": "GzjE2aEyYW5A"
      },
      "source": [
        "```xml\n",
        "<ESTADO>\n",
        "  <ID>1</ID>\n",
        "  <NOME>ACRE</NOME>\n",
        "  <IDCAPITAL>16</IDCAPITAL>\n",
        "  <SIGLA>AC</SIGLA>\n",
        "  <REGIAO>NORTE</REGIAO>\n",
        "</ESTADO>\n",
        "```"
      ]
    },
    {
      "cell_type": "markdown",
      "metadata": {
        "id": "7Mtk7Dd9UHqg"
      },
      "source": [
        "Utilize o pacote Python `beautifulsoup4` para extrair os dados do arquivo `estados-bruto.xml` providenciado. Salve os dados extraidos no arquivo `estados-limpo.csv` separado por `;`. Exemplo das três primeiras linhas mais o cabeçalho:\n",
        "\n",
        "```\n",
        "estado;sigla;regiao\n",
        "ACRE;AC;NORTE\n",
        "ALAGOAS;AL;NORDESTE\n",
        "AMAPA;AP;NORTE\n",
        "```\n",
        "\n",
        "**Dica**: Utilize o parser de xml chamado `lxml` do `beautifulsoup4`."
      ]
    },
    {
      "cell_type": "code",
      "metadata": {
        "id": "kz0ZyYI0Sg6P"
      },
      "source": [
        "# ler o arquivo estados-bruto.xml, utilize o xml parser chamado lxml\n",
        "\n",
        "from bs4 import BeautifulSoup\n",
        "\n",
        "NOME_ARQUIVO_FONTE = 'estados-bruto.xml'\n",
        "\n",
        "pagina = BeautifulSoup(open(NOME_ARQUIVO_FONTE), 'xml')\n"
      ],
      "execution_count": null,
      "outputs": []
    },
    {
      "cell_type": "code",
      "metadata": {
        "id": "rB0u2NjEXhDo",
        "colab": {
          "base_uri": "https://localhost:8080/"
        },
        "outputId": "51c104b9-860c-4236-9716-8f554f864036"
      },
      "source": [
        "# visualize os resultados\n",
        "\n",
        "pagina"
      ],
      "execution_count": null,
      "outputs": [
        {
          "output_type": "execute_result",
          "data": {
            "text/plain": [
              "<?xml version=\"1.0\" encoding=\"utf-8\"?>\n",
              "<ESTADOS>\n",
              "<ESTADO>\n",
              "<ID>1</ID>\n",
              "<NOME>ACRE</NOME>\n",
              "<IDCAPITAL>16</IDCAPITAL>\n",
              "<SIGLA>AC</SIGLA>\n",
              "<REGIAO>NORTE</REGIAO>\n",
              "</ESTADO>\n",
              "<ESTADO>\n",
              "<ID>2</ID>\n",
              "<NOME>ALAGOAS</NOME>\n",
              "<IDCAPITAL>68</IDCAPITAL>\n",
              "<SIGLA>AL</SIGLA>\n",
              "<REGIAO>NORDESTE</REGIAO>\n",
              "</ESTADO>\n",
              "<ESTADO>\n",
              "<ID>3</ID>\n",
              "<NOME>AMAPA</NOME>\n",
              "<IDCAPITAL>131</IDCAPITAL>\n",
              "<SIGLA>AP</SIGLA>\n",
              "<REGIAO>NORTE</REGIAO>\n",
              "</ESTADO>\n",
              "<ESTADO>\n",
              "<ID>4</ID>\n",
              "<NOME>AMAZONAS</NOME>\n",
              "<IDCAPITAL>178</IDCAPITAL>\n",
              "<SIGLA>AM</SIGLA>\n",
              "<REGIAO>NORTE</REGIAO>\n",
              "</ESTADO>\n",
              "<ESTADO>\n",
              "<ID>5</ID>\n",
              "<NOME>BAHIA</NOME>\n",
              "<IDCAPITAL>536</IDCAPITAL>\n",
              "<SIGLA>BA</SIGLA>\n",
              "<REGIAO>NORDESTE</REGIAO>\n",
              "</ESTADO>\n",
              "<ESTADO>\n",
              "<ID>6</ID>\n",
              "<NOME>CEARA</NOME>\n",
              "<IDCAPITAL>676</IDCAPITAL>\n",
              "<SIGLA>CE</SIGLA>\n",
              "<REGIAO>NORDESTE</REGIAO>\n",
              "</ESTADO>\n",
              "<ESTADO>\n",
              "<ID>7</ID>\n",
              "<NOME>DISTRITO FEDERAL</NOME>\n",
              "<IDCAPITAL>916</IDCAPITAL>\n",
              "<SIGLA>DF</SIGLA>\n",
              "<REGIAO>CENTRO-OESTE</REGIAO>\n",
              "</ESTADO>\n",
              "<ESTADO>\n",
              "<ID>8</ID>\n",
              "<NOME>ESPIRITO SANTO</NOME>\n",
              "<IDCAPITAL>879</IDCAPITAL>\n",
              "<SIGLA>ES</SIGLA>\n",
              "<REGIAO>SUDESTE</REGIAO>\n",
              "</ESTADO>\n",
              "<ESTADO>\n",
              "<ID>9</ID>\n",
              "<NOME>GOIAS</NOME>\n",
              "<IDCAPITAL>973</IDCAPITAL>\n",
              "<SIGLA>GO</SIGLA>\n",
              "<REGIAO>CENTRO-OESTE</REGIAO>\n",
              "</ESTADO>\n",
              "<ESTADO>\n",
              "<ID>10</ID>\n",
              "<NOME>MARANHAO</NOME>\n",
              "<IDCAPITAL>1309</IDCAPITAL>\n",
              "<SIGLA>MA</SIGLA>\n",
              "<REGIAO>NORDESTE</REGIAO>\n",
              "</ESTADO>\n",
              "<ESTADO>\n",
              "<ID>11</ID>\n",
              "<NOME>MATO GROSSO</NOME>\n",
              "<IDCAPITAL>1374</IDCAPITAL>\n",
              "<SIGLA>MT</SIGLA>\n",
              "<REGIAO>CENTRO-OESTE</REGIAO>\n",
              "</ESTADO>\n",
              "<ESTADO>\n",
              "<ID>12</ID>\n",
              "<NOME>MATO GROSSO DO SUL</NOME>\n",
              "<IDCAPITAL>1485</IDCAPITAL>\n",
              "<SIGLA>MS</SIGLA>\n",
              "<REGIAO>CENTRO-OESTE</REGIAO>\n",
              "</ESTADO>\n",
              "<ESTADO>\n",
              "<ID>13</ID>\n",
              "<NOME>PARA</NOME>\n",
              "<IDCAPITAL>1561</IDCAPITAL>\n",
              "<SIGLA>PA</SIGLA>\n",
              "<REGIAO>NORTE</REGIAO>\n",
              "</ESTADO>\n",
              "<ESTADO>\n",
              "<ID>14</ID>\n",
              "<NOME>PARAIBA</NOME>\n",
              "<IDCAPITAL>1779</IDCAPITAL>\n",
              "<SIGLA>PB</SIGLA>\n",
              "<REGIAO>NORDESTE</REGIAO>\n",
              "</ESTADO>\n",
              "<ESTADO>\n",
              "<ID>15</ID>\n",
              "<NOME>PARANA</NOME>\n",
              "<IDCAPITAL>2002</IDCAPITAL>\n",
              "<SIGLA>PR</SIGLA>\n",
              "<REGIAO>SUL</REGIAO>\n",
              "</ESTADO>\n",
              "<ESTADO>\n",
              "<ID>16</ID>\n",
              "<NOME>PERNAMBUCO</NOME>\n",
              "<IDCAPITAL>2439</IDCAPITAL>\n",
              "<SIGLA>PE</SIGLA>\n",
              "<REGIAO>NORDESTE</REGIAO>\n",
              "</ESTADO>\n",
              "<ESTADO>\n",
              "<ID>17</ID>\n",
              "<NOME>PIAUI</NOME>\n",
              "<IDCAPITAL>2704</IDCAPITAL>\n",
              "<SIGLA>PI</SIGLA>\n",
              "<REGIAO>NORDESTE</REGIAO>\n",
              "</ESTADO>\n",
              "<ESTADO>\n",
              "<ID>18</ID>\n",
              "<NOME>RIO DE JANEIRO</NOME>\n",
              "<IDCAPITAL>2779</IDCAPITAL>\n",
              "<SIGLA>RJ</SIGLA>\n",
              "<REGIAO>SUDESTE</REGIAO>\n",
              "</ESTADO>\n",
              "<ESTADO>\n",
              "<ID>19</ID>\n",
              "<NOME>RIO GRANDE DO NORTE</NOME>\n",
              "<IDCAPITAL>2890</IDCAPITAL>\n",
              "<SIGLA>RN</SIGLA>\n",
              "<REGIAO>NORDESTE</REGIAO>\n",
              "</ESTADO>\n",
              "<ESTADO>\n",
              "<ID>20</ID>\n",
              "<NOME>RIO GRANDE DO SUL</NOME>\n",
              "<IDCAPITAL>3273</IDCAPITAL>\n",
              "<SIGLA>RS</SIGLA>\n",
              "<REGIAO>SUL</REGIAO>\n",
              "</ESTADO>\n",
              "<ESTADO>\n",
              "<ID>21</ID>\n",
              "<NOME>RONDONIA</NOME>\n",
              "<IDCAPITAL>3473</IDCAPITAL>\n",
              "<SIGLA>RO</SIGLA>\n",
              "<REGIAO>NORTE</REGIAO>\n",
              "</ESTADO>\n",
              "<ESTADO>\n",
              "<ID>22</ID>\n",
              "<NOME>RORAIMA</NOME>\n",
              "<IDCAPITAL>3491</IDCAPITAL>\n",
              "<SIGLA>RR</SIGLA>\n",
              "<REGIAO>NORTE</REGIAO>\n",
              "</ESTADO>\n",
              "<ESTADO>\n",
              "<ID>23</ID>\n",
              "<NOME>SANTA CATARINA</NOME>\n",
              "<IDCAPITAL>3591</IDCAPITAL>\n",
              "<SIGLA>SC</SIGLA>\n",
              "<REGIAO>SUL</REGIAO>\n",
              "</ESTADO>\n",
              "<ESTADO>\n",
              "<ID>24</ID>\n",
              "<NOME>SAO PAULO</NOME>\n",
              "<IDCAPITAL>4361</IDCAPITAL>\n",
              "<SIGLA>SP</SIGLA>\n",
              "<REGIAO>SUDESTE</REGIAO>\n",
              "</ESTADO>\n",
              "<ESTADO>\n",
              "<ID>25</ID>\n",
              "<NOME>SERGIPE</NOME>\n",
              "<IDCAPITAL>4444</IDCAPITAL>\n",
              "<SIGLA>SE</SIGLA>\n",
              "<REGIAO>NORDESTE</REGIAO>\n",
              "</ESTADO>\n",
              "<ESTADO>\n",
              "<ID>26</ID>\n",
              "<NOME>TOCANTINS</NOME>\n",
              "<IDCAPITAL>4606</IDCAPITAL>\n",
              "<SIGLA>TO</SIGLA>\n",
              "<REGIAO>NORTE</REGIAO>\n",
              "</ESTADO>\n",
              "<ESTADO>\n",
              "<ID>27</ID>\n",
              "<NOME>MINAS GERAIS</NOME>\n",
              "<IDCAPITAL>4790</IDCAPITAL>\n",
              "<SIGLA>MG</SIGLA>\n",
              "<REGIAO>SUDESTE</REGIAO>\n",
              "</ESTADO>\n",
              "</ESTADOS>"
            ]
          },
          "metadata": {},
          "execution_count": 298
        }
      ]
    },
    {
      "cell_type": "code",
      "source": [
        "!pip install --upgrade pandas"
      ],
      "metadata": {
        "colab": {
          "base_uri": "https://localhost:8080/"
        },
        "id": "HS96R9CapRgf",
        "outputId": "7627e2ff-68ee-44f7-ba8f-3b0496746aa9"
      },
      "execution_count": null,
      "outputs": [
        {
          "output_type": "stream",
          "name": "stdout",
          "text": [
            "Requirement already satisfied: pandas in /usr/local/lib/python3.10/dist-packages (2.0.3)\n",
            "Requirement already satisfied: python-dateutil>=2.8.2 in /usr/local/lib/python3.10/dist-packages (from pandas) (2.8.2)\n",
            "Requirement already satisfied: pytz>=2020.1 in /usr/local/lib/python3.10/dist-packages (from pandas) (2022.7.1)\n",
            "Requirement already satisfied: tzdata>=2022.1 in /usr/local/lib/python3.10/dist-packages (from pandas) (2023.3)\n",
            "Requirement already satisfied: numpy>=1.21.0 in /usr/local/lib/python3.10/dist-packages (from pandas) (1.23.5)\n",
            "Requirement already satisfied: six>=1.5 in /usr/local/lib/python3.10/dist-packages (from python-dateutil>=2.8.2->pandas) (1.16.0)\n"
          ]
        }
      ]
    },
    {
      "cell_type": "code",
      "source": [
        "import pandas as pd\n",
        "\n",
        "print(pd.__version__)"
      ],
      "metadata": {
        "colab": {
          "base_uri": "https://localhost:8080/"
        },
        "id": "t-R3WpOTpoAX",
        "outputId": "64f37f52-31ee-4af1-f2ad-f6d19d00607d"
      },
      "execution_count": null,
      "outputs": [
        {
          "output_type": "stream",
          "name": "stdout",
          "text": [
            "2.0.3\n"
          ]
        }
      ]
    },
    {
      "cell_type": "code",
      "metadata": {
        "id": "6mos3LTVXrzV",
        "colab": {
          "base_uri": "https://localhost:8080/"
        },
        "outputId": "a08f5622-d337-4dba-ef17-a73751b1709f"
      },
      "source": [
        "# manipule os dados\n",
        "\n",
        "import pandas as pd\n",
        "\n",
        "\n",
        "df = pd.read_xml(\"estados-bruto.xml\")\n",
        "\n",
        "\n",
        "print(df)"
      ],
      "execution_count": null,
      "outputs": [
        {
          "output_type": "stream",
          "name": "stdout",
          "text": [
            "    ID                 NOME  IDCAPITAL SIGLA        REGIAO\n",
            "0    1                 ACRE         16    AC         NORTE\n",
            "1    2              ALAGOAS         68    AL      NORDESTE\n",
            "2    3                AMAPA        131    AP         NORTE\n",
            "3    4             AMAZONAS        178    AM         NORTE\n",
            "4    5                BAHIA        536    BA      NORDESTE\n",
            "5    6                CEARA        676    CE      NORDESTE\n",
            "6    7     DISTRITO FEDERAL        916    DF  CENTRO-OESTE\n",
            "7    8       ESPIRITO SANTO        879    ES       SUDESTE\n",
            "8    9                GOIAS        973    GO  CENTRO-OESTE\n",
            "9   10             MARANHAO       1309    MA      NORDESTE\n",
            "10  11          MATO GROSSO       1374    MT  CENTRO-OESTE\n",
            "11  12   MATO GROSSO DO SUL       1485    MS  CENTRO-OESTE\n",
            "12  13                 PARA       1561    PA         NORTE\n",
            "13  14              PARAIBA       1779    PB      NORDESTE\n",
            "14  15               PARANA       2002    PR           SUL\n",
            "15  16           PERNAMBUCO       2439    PE      NORDESTE\n",
            "16  17                PIAUI       2704    PI      NORDESTE\n",
            "17  18       RIO DE JANEIRO       2779    RJ       SUDESTE\n",
            "18  19  RIO GRANDE DO NORTE       2890    RN      NORDESTE\n",
            "19  20    RIO GRANDE DO SUL       3273    RS           SUL\n",
            "20  21             RONDONIA       3473    RO         NORTE\n",
            "21  22              RORAIMA       3491    RR         NORTE\n",
            "22  23       SANTA CATARINA       3591    SC           SUL\n",
            "23  24            SAO PAULO       4361    SP       SUDESTE\n",
            "24  25              SERGIPE       4444    SE      NORDESTE\n",
            "25  26            TOCANTINS       4606    TO         NORTE\n",
            "26  27         MINAS GERAIS       4790    MG       SUDESTE\n"
          ]
        }
      ]
    },
    {
      "cell_type": "code",
      "metadata": {
        "id": "9yCma_LASxFg"
      },
      "source": [
        "# escrever o conteudo extraido no arquivo estados-limpo.csv separados por ;\n",
        "\n",
        "\n",
        "\n",
        "df.to_csv('estados-limpo.csv', index=False)\n",
        "\n"
      ],
      "execution_count": null,
      "outputs": []
    },
    {
      "cell_type": "markdown",
      "metadata": {
        "id": "Fq0xqYYSYq92"
      },
      "source": [
        "### **1.2. Cidades**"
      ]
    },
    {
      "cell_type": "markdown",
      "metadata": {
        "id": "eWRbjhOQYq93"
      },
      "source": [
        "O arquivo `cidades-bruto.csv` contém informações demográficas e socioeconomicas das cidades do Brasil. **Carregue-o na máquina virtual do Google Colab**. Utilize o pacote Python `pandas` para extrair os dados do arquivo `cidades-bruto.xml` providenciado. Seguindo as seguintes especificações:"
      ]
    },
    {
      "cell_type": "markdown",
      "metadata": {
        "id": "76zW8sMsbhEu"
      },
      "source": [
        "**1**. Apenas dados do censo de 2010;\n",
        "1. Apenas as colunas UF, Nome, PIB, Pop_est_2009 e PIB_percapita."
      ]
    },
    {
      "cell_type": "markdown",
      "metadata": {
        "id": "auiIxlw-blp8"
      },
      "source": [
        "Salve os dados extraidos no arquivo `cidades-limpo.csv` separado por `;`. Exemplo das três primeiras linhas mais o cabeçalho:\n",
        "\n",
        "```\n",
        "estado;cidade;populacao;pib;pib_percapita\n",
        "BAHIA;TREMEDAL;18433;57883.9921875;3140.23999023\n",
        "RIO GRANDE DO SUL;TURUÇU;4000;45723875;11430.96972656\n",
        "ESPIRITO SANTO;VITÓRIA;320156;19782628;61790.58984375\n",
        "```"
      ]
    },
    {
      "cell_type": "code",
      "metadata": {
        "id": "nBmWOkvzYq94"
      },
      "source": [
        "# ler o arquivo cidades-bruto.csv\n",
        "\n",
        "import pandas as pd\n",
        "\n",
        "NOME_ARQUIVO_FONTE = \"cidades-bruto.csv\"\n",
        "\n",
        "fonte = pd.read_csv (NOME_ARQUIVO_FONTE,encoding=\"utf-8\",sep=\",\",usecols=[\"UF\",\"nome\", \"PIB\", \"Pop_est_2009\" , \"PIB_percapita\",\"Censo\"])\n",
        "\n",
        "fonte= fonte.rename(columns={\"nome\": \"CIDADE\",\"UF\":\"NOME\"})\n",
        "\n",
        "\n",
        "\n",
        "\n",
        "\n"
      ],
      "execution_count": null,
      "outputs": []
    },
    {
      "cell_type": "markdown",
      "source": [],
      "metadata": {
        "id": "J3lGMCP4ZKon"
      }
    },
    {
      "cell_type": "code",
      "metadata": {
        "id": "2NKpI4h9Yq95",
        "colab": {
          "base_uri": "https://localhost:8080/",
          "height": 250
        },
        "outputId": "fba20482-5484-4132-8e8f-05498a44592a"
      },
      "source": [
        "# visualize os resultados\n",
        "fonte.head()\n",
        "# continue o codigo aqui"
      ],
      "execution_count": null,
      "outputs": [
        {
          "output_type": "execute_result",
          "data": {
            "text/plain": [
              "                NOME     CIDADE   Censo         PIB  Pop_est_2009  \\\n",
              "0              BAHIA   Tremedal 2010.00    57883.99         18433   \n",
              "1  RIO GRANDE DO SUL     Turuçu 2010.00    45723.88          4000   \n",
              "2     ESPIRITO SANTO    Vitória 2010.00 19782628.00        320156   \n",
              "3       MINAS GERAIS  Jacutinga 2010.00   247816.00         21424   \n",
              "4              PIAUÍ    Nazária 2010.00    20951.38          7895   \n",
              "\n",
              "   PIB_percapita  \n",
              "0        3140.24  \n",
              "1       11430.97  \n",
              "2       61790.59  \n",
              "3       11567.21  \n",
              "4        2653.75  "
            ],
            "text/html": [
              "\n",
              "\n",
              "  <div id=\"df-bbe6327c-510f-4509-9abf-e8604b696848\">\n",
              "    <div class=\"colab-df-container\">\n",
              "      <div>\n",
              "<style scoped>\n",
              "    .dataframe tbody tr th:only-of-type {\n",
              "        vertical-align: middle;\n",
              "    }\n",
              "\n",
              "    .dataframe tbody tr th {\n",
              "        vertical-align: top;\n",
              "    }\n",
              "\n",
              "    .dataframe thead th {\n",
              "        text-align: right;\n",
              "    }\n",
              "</style>\n",
              "<table border=\"1\" class=\"dataframe\">\n",
              "  <thead>\n",
              "    <tr style=\"text-align: right;\">\n",
              "      <th></th>\n",
              "      <th>NOME</th>\n",
              "      <th>CIDADE</th>\n",
              "      <th>Censo</th>\n",
              "      <th>PIB</th>\n",
              "      <th>Pop_est_2009</th>\n",
              "      <th>PIB_percapita</th>\n",
              "    </tr>\n",
              "  </thead>\n",
              "  <tbody>\n",
              "    <tr>\n",
              "      <th>0</th>\n",
              "      <td>BAHIA</td>\n",
              "      <td>Tremedal</td>\n",
              "      <td>2010.00</td>\n",
              "      <td>57883.99</td>\n",
              "      <td>18433</td>\n",
              "      <td>3140.24</td>\n",
              "    </tr>\n",
              "    <tr>\n",
              "      <th>1</th>\n",
              "      <td>RIO GRANDE DO SUL</td>\n",
              "      <td>Turuçu</td>\n",
              "      <td>2010.00</td>\n",
              "      <td>45723.88</td>\n",
              "      <td>4000</td>\n",
              "      <td>11430.97</td>\n",
              "    </tr>\n",
              "    <tr>\n",
              "      <th>2</th>\n",
              "      <td>ESPIRITO SANTO</td>\n",
              "      <td>Vitória</td>\n",
              "      <td>2010.00</td>\n",
              "      <td>19782628.00</td>\n",
              "      <td>320156</td>\n",
              "      <td>61790.59</td>\n",
              "    </tr>\n",
              "    <tr>\n",
              "      <th>3</th>\n",
              "      <td>MINAS GERAIS</td>\n",
              "      <td>Jacutinga</td>\n",
              "      <td>2010.00</td>\n",
              "      <td>247816.00</td>\n",
              "      <td>21424</td>\n",
              "      <td>11567.21</td>\n",
              "    </tr>\n",
              "    <tr>\n",
              "      <th>4</th>\n",
              "      <td>PIAUÍ</td>\n",
              "      <td>Nazária</td>\n",
              "      <td>2010.00</td>\n",
              "      <td>20951.38</td>\n",
              "      <td>7895</td>\n",
              "      <td>2653.75</td>\n",
              "    </tr>\n",
              "  </tbody>\n",
              "</table>\n",
              "</div>\n",
              "      <button class=\"colab-df-convert\" onclick=\"convertToInteractive('df-bbe6327c-510f-4509-9abf-e8604b696848')\"\n",
              "              title=\"Convert this dataframe to an interactive table.\"\n",
              "              style=\"display:none;\">\n",
              "\n",
              "  <svg xmlns=\"http://www.w3.org/2000/svg\" height=\"24px\"viewBox=\"0 0 24 24\"\n",
              "       width=\"24px\">\n",
              "    <path d=\"M0 0h24v24H0V0z\" fill=\"none\"/>\n",
              "    <path d=\"M18.56 5.44l.94 2.06.94-2.06 2.06-.94-2.06-.94-.94-2.06-.94 2.06-2.06.94zm-11 1L8.5 8.5l.94-2.06 2.06-.94-2.06-.94L8.5 2.5l-.94 2.06-2.06.94zm10 10l.94 2.06.94-2.06 2.06-.94-2.06-.94-.94-2.06-.94 2.06-2.06.94z\"/><path d=\"M17.41 7.96l-1.37-1.37c-.4-.4-.92-.59-1.43-.59-.52 0-1.04.2-1.43.59L10.3 9.45l-7.72 7.72c-.78.78-.78 2.05 0 2.83L4 21.41c.39.39.9.59 1.41.59.51 0 1.02-.2 1.41-.59l7.78-7.78 2.81-2.81c.8-.78.8-2.07 0-2.86zM5.41 20L4 18.59l7.72-7.72 1.47 1.35L5.41 20z\"/>\n",
              "  </svg>\n",
              "      </button>\n",
              "\n",
              "\n",
              "\n",
              "    <div id=\"df-7a0805ee-cabd-404c-8ec7-ad39ee82ec01\">\n",
              "      <button class=\"colab-df-quickchart\" onclick=\"quickchart('df-7a0805ee-cabd-404c-8ec7-ad39ee82ec01')\"\n",
              "              title=\"Suggest charts.\"\n",
              "              style=\"display:none;\">\n",
              "\n",
              "<svg xmlns=\"http://www.w3.org/2000/svg\" height=\"24px\"viewBox=\"0 0 24 24\"\n",
              "     width=\"24px\">\n",
              "    <g>\n",
              "        <path d=\"M19 3H5c-1.1 0-2 .9-2 2v14c0 1.1.9 2 2 2h14c1.1 0 2-.9 2-2V5c0-1.1-.9-2-2-2zM9 17H7v-7h2v7zm4 0h-2V7h2v10zm4 0h-2v-4h2v4z\"/>\n",
              "    </g>\n",
              "</svg>\n",
              "      </button>\n",
              "    </div>\n",
              "\n",
              "<style>\n",
              "  .colab-df-quickchart {\n",
              "    background-color: #E8F0FE;\n",
              "    border: none;\n",
              "    border-radius: 50%;\n",
              "    cursor: pointer;\n",
              "    display: none;\n",
              "    fill: #1967D2;\n",
              "    height: 32px;\n",
              "    padding: 0 0 0 0;\n",
              "    width: 32px;\n",
              "  }\n",
              "\n",
              "  .colab-df-quickchart:hover {\n",
              "    background-color: #E2EBFA;\n",
              "    box-shadow: 0px 1px 2px rgba(60, 64, 67, 0.3), 0px 1px 3px 1px rgba(60, 64, 67, 0.15);\n",
              "    fill: #174EA6;\n",
              "  }\n",
              "\n",
              "  [theme=dark] .colab-df-quickchart {\n",
              "    background-color: #3B4455;\n",
              "    fill: #D2E3FC;\n",
              "  }\n",
              "\n",
              "  [theme=dark] .colab-df-quickchart:hover {\n",
              "    background-color: #434B5C;\n",
              "    box-shadow: 0px 1px 3px 1px rgba(0, 0, 0, 0.15);\n",
              "    filter: drop-shadow(0px 1px 2px rgba(0, 0, 0, 0.3));\n",
              "    fill: #FFFFFF;\n",
              "  }\n",
              "</style>\n",
              "\n",
              "    <script>\n",
              "      async function quickchart(key) {\n",
              "        const containerElement = document.querySelector('#' + key);\n",
              "        const charts = await google.colab.kernel.invokeFunction(\n",
              "            'suggestCharts', [key], {});\n",
              "      }\n",
              "    </script>\n",
              "\n",
              "      <script>\n",
              "\n",
              "function displayQuickchartButton(domScope) {\n",
              "  let quickchartButtonEl =\n",
              "    domScope.querySelector('#df-7a0805ee-cabd-404c-8ec7-ad39ee82ec01 button.colab-df-quickchart');\n",
              "  quickchartButtonEl.style.display =\n",
              "    google.colab.kernel.accessAllowed ? 'block' : 'none';\n",
              "}\n",
              "\n",
              "        displayQuickchartButton(document);\n",
              "      </script>\n",
              "      <style>\n",
              "    .colab-df-container {\n",
              "      display:flex;\n",
              "      flex-wrap:wrap;\n",
              "      gap: 12px;\n",
              "    }\n",
              "\n",
              "    .colab-df-convert {\n",
              "      background-color: #E8F0FE;\n",
              "      border: none;\n",
              "      border-radius: 50%;\n",
              "      cursor: pointer;\n",
              "      display: none;\n",
              "      fill: #1967D2;\n",
              "      height: 32px;\n",
              "      padding: 0 0 0 0;\n",
              "      width: 32px;\n",
              "    }\n",
              "\n",
              "    .colab-df-convert:hover {\n",
              "      background-color: #E2EBFA;\n",
              "      box-shadow: 0px 1px 2px rgba(60, 64, 67, 0.3), 0px 1px 3px 1px rgba(60, 64, 67, 0.15);\n",
              "      fill: #174EA6;\n",
              "    }\n",
              "\n",
              "    [theme=dark] .colab-df-convert {\n",
              "      background-color: #3B4455;\n",
              "      fill: #D2E3FC;\n",
              "    }\n",
              "\n",
              "    [theme=dark] .colab-df-convert:hover {\n",
              "      background-color: #434B5C;\n",
              "      box-shadow: 0px 1px 3px 1px rgba(0, 0, 0, 0.15);\n",
              "      filter: drop-shadow(0px 1px 2px rgba(0, 0, 0, 0.3));\n",
              "      fill: #FFFFFF;\n",
              "    }\n",
              "  </style>\n",
              "\n",
              "      <script>\n",
              "        const buttonEl =\n",
              "          document.querySelector('#df-bbe6327c-510f-4509-9abf-e8604b696848 button.colab-df-convert');\n",
              "        buttonEl.style.display =\n",
              "          google.colab.kernel.accessAllowed ? 'block' : 'none';\n",
              "\n",
              "        async function convertToInteractive(key) {\n",
              "          const element = document.querySelector('#df-bbe6327c-510f-4509-9abf-e8604b696848');\n",
              "          const dataTable =\n",
              "            await google.colab.kernel.invokeFunction('convertToInteractive',\n",
              "                                                     [key], {});\n",
              "          if (!dataTable) return;\n",
              "\n",
              "          const docLinkHtml = 'Like what you see? Visit the ' +\n",
              "            '<a target=\"_blank\" href=https://colab.research.google.com/notebooks/data_table.ipynb>data table notebook</a>'\n",
              "            + ' to learn more about interactive tables.';\n",
              "          element.innerHTML = '';\n",
              "          dataTable['output_type'] = 'display_data';\n",
              "          await google.colab.output.renderOutput(dataTable, element);\n",
              "          const docLink = document.createElement('div');\n",
              "          docLink.innerHTML = docLinkHtml;\n",
              "          element.appendChild(docLink);\n",
              "        }\n",
              "      </script>\n",
              "    </div>\n",
              "  </div>\n"
            ]
          },
          "metadata": {},
          "execution_count": 304
        }
      ]
    },
    {
      "cell_type": "code",
      "metadata": {
        "id": "BRVLwHxHYq96",
        "colab": {
          "base_uri": "https://localhost:8080/"
        },
        "outputId": "1e93a70d-b32f-403c-b905-805038c9608a"
      },
      "source": [
        "# manipule os dados\n",
        "fonte = fonte[fonte['Censo'] == 2010]\n",
        "fonte ['NOME'] = fonte['NOME'].apply(lambda NOME: 'SAO PAULO' if NOME == 'SÃO PAULO' else NOME.replace('SÃO PAULO', 'SAO PAULO'))\n",
        "\n",
        "pd.set_option(\"float_format\", \"{:.2f}\".format)\n",
        "\n",
        "\n",
        "print (fonte)\n",
        "# continue o codigo aqui"
      ],
      "execution_count": null,
      "outputs": [
        {
          "output_type": "stream",
          "name": "stdout",
          "text": [
            "                   NOME            CIDADE   Censo         PIB  Pop_est_2009  \\\n",
            "0                 BAHIA          Tremedal 2010.00    57883.99         18433   \n",
            "1     RIO GRANDE DO SUL            Turuçu 2010.00    45723.88          4000   \n",
            "2        ESPIRITO SANTO           Vitória 2010.00 19782628.00        320156   \n",
            "3          MINAS GERAIS         Jacutinga 2010.00   247816.00         21424   \n",
            "4                 PIAUÍ           Nazária 2010.00    20951.38          7895   \n",
            "...                 ...               ...     ...         ...           ...   \n",
            "5561     SANTA CATARINA         Campo Erê 2010.00   187628.91          9737   \n",
            "5562             PARANÁ          Planalto 2010.00   138553.55         13983   \n",
            "5563          SAO PAULO        Guararapes 2010.00   532019.12         29639   \n",
            "5564  RIO GRANDE DO SUL  Barra do Guarita 2010.00    21980.64          3067   \n",
            "5565  RIO GRANDE DO SUL        Machadinho 2010.00    57150.17          5623   \n",
            "\n",
            "      PIB_percapita  \n",
            "0           3140.24  \n",
            "1          11430.97  \n",
            "2          61790.59  \n",
            "3          11567.21  \n",
            "4           2653.75  \n",
            "...             ...  \n",
            "5561       19269.68  \n",
            "5562        9908.71  \n",
            "5563       17949.97  \n",
            "5564        7166.82  \n",
            "5565       10163.64  \n",
            "\n",
            "[5555 rows x 6 columns]\n"
          ]
        }
      ]
    },
    {
      "cell_type": "code",
      "source": [
        "type(fonte)"
      ],
      "metadata": {
        "colab": {
          "base_uri": "https://localhost:8080/"
        },
        "id": "ol-k50Mijtt-",
        "outputId": "d477dbc8-df95-4339-f75d-668dc70aae6c"
      },
      "execution_count": null,
      "outputs": [
        {
          "output_type": "execute_result",
          "data": {
            "text/plain": [
              "pandas.core.frame.DataFrame"
            ]
          },
          "metadata": {},
          "execution_count": 306
        }
      ]
    },
    {
      "cell_type": "code",
      "metadata": {
        "id": "GcAWBfwhYq96"
      },
      "source": [
        "# escrever o conteudo extraido no arquivo cidades-limpo.csv separados por ;\n",
        "\n",
        "fonte.to_csv ('cidades-limpo.csv', index=\";\")\n",
        "\n",
        "#NOME_ARQUIVO_DESTINO = 'cidades-limpo.csv'\n",
        "\n",
        "# continue o codigo aqui"
      ],
      "execution_count": null,
      "outputs": []
    },
    {
      "cell_type": "markdown",
      "metadata": {
        "id": "EBzoHVD8b_c7"
      },
      "source": [
        "### **1.3. Brasil**"
      ]
    },
    {
      "cell_type": "markdown",
      "metadata": {
        "id": "Ft6l5bDwb_c7"
      },
      "source": [
        "Utilize o pacote Python `pandas` para combinar os dados do arquivo `estados-bruto.csv` com os dados do arquivo `cidades-bruto.csv` em um único dataframe. Escolha a coluna e o método de combinação de tal forma que **não haja perda de dados** no processo (não produzirá valores nulos `NaN`). Salve os dados do dataframe no arquivo `brasil.csv`"
      ]
    },
    {
      "cell_type": "code",
      "metadata": {
        "id": "Vz3J7G4-dBXa"
      },
      "source": [
        "# solução do exercício 1.3\n",
        "\n",
        "Df_Estados = pd.read_csv(\"estados-limpo.csv\")\n",
        "Df_cidades = pd.read_csv(\"cidades-limpo.csv\")"
      ],
      "execution_count": null,
      "outputs": []
    },
    {
      "cell_type": "code",
      "source": [
        "Brasil = pd.merge(left = Df_Estados, right = Df_cidades, on = \"NOME\", how = \"outer\")"
      ],
      "metadata": {
        "id": "DAHFH6qg8SdK"
      },
      "execution_count": null,
      "outputs": []
    },
    {
      "cell_type": "code",
      "source": [
        "Brasil.to_csv ('Brasil.csv', index=\";\")"
      ],
      "metadata": {
        "id": "v9ZBicfRAIpI"
      },
      "execution_count": null,
      "outputs": []
    },
    {
      "cell_type": "markdown",
      "metadata": {
        "id": "waxn4B2UDHyl"
      },
      "source": [
        "---"
      ]
    },
    {
      "cell_type": "markdown",
      "metadata": {
        "id": "finLQoyyGVmk"
      },
      "source": [
        "## 2\\. Data Analytics"
      ]
    },
    {
      "cell_type": "markdown",
      "metadata": {
        "id": "Ab0GW19Ed1ig"
      },
      "source": [
        "### **2.1. DataFrame**"
      ]
    },
    {
      "cell_type": "markdown",
      "metadata": {
        "id": "l8jJYjeBdijt"
      },
      "source": [
        "Utilize o pacote Python `pandas` para carregar o arquivo `brasil.csv` no dataframe `brasil_df`."
      ]
    },
    {
      "cell_type": "code",
      "metadata": {
        "id": "8kFQLlqud4QL"
      },
      "source": [
        "# solução do exercício 2.1\n",
        "\n",
        "Brasil_Df = pd.read_csv(\"Brasil.csv\")"
      ],
      "execution_count": null,
      "outputs": []
    },
    {
      "cell_type": "markdown",
      "metadata": {
        "id": "ZFWvK8FXHuex"
      },
      "source": [
        "### **2.2. Analise**"
      ]
    },
    {
      "cell_type": "markdown",
      "metadata": {
        "id": "EGyz0R1dd62D"
      },
      "source": [
        "Utilize o dataframe `brasil_df` para responder as seguintes perguntas de negócio:"
      ]
    },
    {
      "cell_type": "markdown",
      "metadata": {
        "id": "lGnYVp7IeFBD"
      },
      "source": [
        " - Quais são as 10 cidades mais populosas do Brasil?"
      ]
    },
    {
      "cell_type": "code",
      "metadata": {
        "id": "KQKcD-VkeQYf",
        "colab": {
          "base_uri": "https://localhost:8080/"
        },
        "outputId": "20684bd3-0d6d-4d79-d792-fb624e15cc90"
      },
      "source": [
        "# código para responder a pergunta\n",
        "\n",
        "Brasil_Df.groupby(\"CIDADE\")[\"Pop_est_2009\"].sum().sort_values(ascending=False).head(10)\n"
      ],
      "execution_count": null,
      "outputs": [
        {
          "output_type": "execute_result",
          "data": {
            "text/plain": [
              "CIDADE\n",
              "São Paulo        11037593.00\n",
              "Rio de Janeiro    6186710.00\n",
              "Salvador          2998056.00\n",
              "Brasília          2606885.00\n",
              "Fortaleza         2505552.00\n",
              "Belo Horizonte    2452617.00\n",
              "Curitiba          1851215.00\n",
              "Manaus            1738641.00\n",
              "Recife            1561659.00\n",
              "Belém             1460429.00\n",
              "Name: Pop_est_2009, dtype: float64"
            ]
          },
          "metadata": {},
          "execution_count": 312
        }
      ]
    },
    {
      "cell_type": "markdown",
      "metadata": {
        "id": "l93St6uleWTp"
      },
      "source": [
        " - Quais são as 5 cidades com a menor PIB per capita da região nordeste?"
      ]
    },
    {
      "cell_type": "code",
      "metadata": {
        "id": "DS5akh2zeWTq",
        "colab": {
          "base_uri": "https://localhost:8080/"
        },
        "outputId": "d336d8ce-53b7-4251-9d9e-7e5250ad4e91"
      },
      "source": [
        "# código para responder a pergunta\n",
        "Brasil_DF_PIB5 = Brasil_Df[Brasil_Df['REGIAO'] == \"NORTE\"]\n",
        "Brasil_DF_PIB5.groupby(\"CIDADE\")[\"PIB\"].sum().sort_values(ascending=False).tail(5)\n",
        "\n"
      ],
      "execution_count": null,
      "outputs": [
        {
          "output_type": "execute_result",
          "data": {
            "text/plain": [
              "CIDADE\n",
              "Cachoeirinha             12054.81\n",
              "Taipas do Tocantins      11962.88\n",
              "Oliveira de Fátima       11591.95\n",
              "Chapada de Areia         11322.54\n",
              "São Félix do Tocantins    8387.25\n",
              "Name: PIB, dtype: float64"
            ]
          },
          "metadata": {},
          "execution_count": 313
        }
      ]
    },
    {
      "cell_type": "markdown",
      "metadata": {
        "id": "GqwffgUmedmb"
      },
      "source": [
        " - Quais são as 15 cidades com maior PIB do do estado de São Paulo?"
      ]
    },
    {
      "cell_type": "code",
      "metadata": {
        "id": "tFKEn1gLedmc",
        "colab": {
          "base_uri": "https://localhost:8080/"
        },
        "outputId": "658a9e1d-633c-431c-b45e-7e86e5eeffc0"
      },
      "source": [
        "# código para responder a pergunta\n",
        "Brasil_DF_PIBSP = Brasil_Df[Brasil_Df['NOME'] == \"SAO PAULO\"]\n",
        "Brasil_DF_PIBSP.groupby(\"CIDADE\")[\"PIB\"].sum().sort_values(ascending=False).head(15)"
      ],
      "execution_count": null,
      "outputs": [
        {
          "output_type": "execute_result",
          "data": {
            "text/plain": [
              "CIDADE\n",
              "São Paulo               389317152.00\n",
              "Guarulhos                32473828.00\n",
              "Campinas                 31654720.00\n",
              "Osasco                   31616452.00\n",
              "São Bernardo do Campo    28935768.00\n",
              "Barueri                  26908070.00\n",
              "Santos                   22546134.00\n",
              "São José dos Campos      22018042.00\n",
              "Jundiaí                  16585137.00\n",
              "Santo André              14709603.00\n",
              "Ribeirão Preto           14688064.00\n",
              "Sorocaba                 14182597.00\n",
              "Diadema                   9969819.00\n",
              "Piracicaba                9601211.00\n",
              "São Caetano do Sul        8920202.00\n",
              "Name: PIB, dtype: float64"
            ]
          },
          "metadata": {},
          "execution_count": 314
        }
      ]
    },
    {
      "cell_type": "markdown",
      "metadata": {
        "id": "Wg_la1wOewoB"
      },
      "source": [
        " - Qual é o PIB do estado de Santa Catarina?"
      ]
    },
    {
      "cell_type": "code",
      "metadata": {
        "id": "LwGqow5_ewoB",
        "colab": {
          "base_uri": "https://localhost:8080/"
        },
        "outputId": "96c34b61-7e49-4fc4-c667-cf2aa561020c"
      },
      "source": [
        "# código para responder a pergunta\n",
        "Brasil_DF_PIBSC = Brasil_Df[Brasil_Df['NOME'] == \"SANTA CATARINA\"]\n",
        "Brasil_DF_PIBSC.groupby(\"NOME\")[\"PIB\"].sum()\n",
        "\n",
        "\n"
      ],
      "execution_count": null,
      "outputs": [
        {
          "output_type": "execute_result",
          "data": {
            "text/plain": [
              "NOME\n",
              "SANTA CATARINA   129806256.75\n",
              "Name: PIB, dtype: float64"
            ]
          },
          "metadata": {},
          "execution_count": 321
        }
      ]
    },
    {
      "cell_type": "markdown",
      "metadata": {
        "id": "Yaw2gDukfApr"
      },
      "source": [
        " - Qual é o população da região sul?"
      ]
    },
    {
      "cell_type": "code",
      "metadata": {
        "id": "enEkNjFQfAps",
        "colab": {
          "base_uri": "https://localhost:8080/"
        },
        "outputId": "7f489511-66e7-46d8-8ed4-2ffa55983e10"
      },
      "source": [
        "# código para responder a pergunta\n",
        "Brasil_DF_Psul = Brasil_Df[Brasil_Df['REGIAO'] == \"SUL\"]\n",
        "Brasil_DF_Psul = Brasil_DF_Psul [\"Pop_est_2009\"].sum()\n",
        "print (Brasil_DF_Psul)"
      ],
      "execution_count": null,
      "outputs": [
        {
          "output_type": "stream",
          "name": "stdout",
          "text": [
            "17032871.0\n"
          ]
        }
      ]
    },
    {
      "cell_type": "markdown",
      "metadata": {
        "id": "9qOaKRS9fFu8"
      },
      "source": [
        " - Qual é o PIB per capito médio das cidades do Mato Grosso do Sul?"
      ]
    },
    {
      "cell_type": "code",
      "metadata": {
        "id": "gX8DVSfFfFu9",
        "colab": {
          "base_uri": "https://localhost:8080/"
        },
        "outputId": "6d0fdae2-ecef-42d0-e417-0bcb90613cd3"
      },
      "source": [
        "# código para responder a pergunta\n",
        "Brasil_DF_PIBMTS = Brasil_Df[Brasil_Df['NOME'] == \"MATO GROSSO DO SUL\"]\n",
        "Brasil_DF_PIBMTS = Brasil_DF_PIBMTS [\"PIB_percapita\"].sum()\n",
        "print (Brasil_DF_PIBMTS)\n"
      ],
      "execution_count": null,
      "outputs": [
        {
          "output_type": "stream",
          "name": "stdout",
          "text": [
            "1127793.9550781003\n"
          ]
        }
      ]
    },
    {
      "cell_type": "markdown",
      "metadata": {
        "id": "lvf-VqaffS2D"
      },
      "source": [
        " - Qual é a população do Brasil?"
      ]
    },
    {
      "cell_type": "code",
      "metadata": {
        "id": "_nBsY6EcfS2E",
        "colab": {
          "base_uri": "https://localhost:8080/"
        },
        "outputId": "5497fa1b-5fbb-4717-d1d4-68b2439510e9"
      },
      "source": [
        "# código para responder a pergunta\n",
        "PopulaçaoTT = Brasil_Df [\"Pop_est_2009\"].sum()\n",
        "print(PopulaçaoTT)"
      ],
      "execution_count": null,
      "outputs": [
        {
          "output_type": "stream",
          "name": "stdout",
          "text": [
            "191176146.0\n"
          ]
        }
      ]
    },
    {
      "cell_type": "markdown",
      "metadata": {
        "id": "hnTSARXpipkP"
      },
      "source": [
        "### **2.3. Visualização**"
      ]
    },
    {
      "cell_type": "markdown",
      "metadata": {
        "id": "7coMkY8xixFO"
      },
      "source": [
        "Utilize o dataframe `brasil_df` para gerar as seguintes visualizações."
      ]
    },
    {
      "cell_type": "markdown",
      "metadata": {
        "id": "SgvPvh4Vjctx"
      },
      "source": [
        " - Gere um gráfico de barras com as 10 cidades menos populosas do Brasil."
      ]
    },
    {
      "cell_type": "code",
      "metadata": {
        "id": "V8eM0uEUjcty",
        "colab": {
          "base_uri": "https://localhost:8080/",
          "height": 579
        },
        "outputId": "ff1263c9-9b0e-4c2f-b35f-3806a30d7acc"
      },
      "source": [
        "# código para gerar a visualização\n",
        "Menos_populosas = Brasil_Df.groupby(\"CIDADE\")[\"Pop_est_2009\"].sum().sort_values(ascending=True).head(10)\n",
        "Menos_populosas.plot.bar()\n"
      ],
      "execution_count": 339,
      "outputs": [
        {
          "output_type": "execute_result",
          "data": {
            "text/plain": [
              "<Axes: xlabel='CIDADE'>"
            ]
          },
          "metadata": {},
          "execution_count": 339
        },
        {
          "output_type": "display_data",
          "data": {
            "text/plain": [
              "<Figure size 640x480 with 1 Axes>"
            ],
            "image/png": "[encoded data removed]"
          },
          "metadata": {}
        }
      ]
    },
    {
      "cell_type": "markdown",
      "metadata": {
        "id": "gsa3SrTjjrGV"
      },
      "source": [
        " - Gere um gráfico de pizza com a proporção da população do Brasil por região."
      ]
    },
    {
      "cell_type": "code",
      "metadata": {
        "id": "1dvqIAEHjrGV",
        "colab": {
          "base_uri": "https://localhost:8080/",
          "height": 423
        },
        "outputId": "f45e2dd6-5c06-4933-ca43-cf893ea2d730"
      },
      "source": [
        "# código para gerar a visualização\n",
        "Menos_populosas = Brasil_Df.groupby(\"REGIAO\")[\"Pop_est_2009\"].sum().sort_values(ascending=True).head(10)\n",
        "Menos_populosas.plot.pie()"
      ],
      "execution_count": 341,
      "outputs": [
        {
          "output_type": "execute_result",
          "data": {
            "text/plain": [
              "<Axes: ylabel='Pop_est_2009'>"
            ]
          },
          "metadata": {},
          "execution_count": 341
        },
        {
          "output_type": "display_data",
          "data": {
            "text/plain": [
              "<Figure size 640x480 with 1 Axes>"
            ],
            "image/png": "[encoded data removed]"
          },
          "metadata": {}
        }
      ]
    }
  ]
}