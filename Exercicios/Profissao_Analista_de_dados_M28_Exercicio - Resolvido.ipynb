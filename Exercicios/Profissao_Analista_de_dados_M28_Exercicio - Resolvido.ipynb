{
  "nbformat": 4,
  "nbformat_minor": 0,
  "metadata": {
    "colab": {
      "provenance": [],
      "toc_visible": true
    },
    "kernelspec": {
      "name": "python3",
      "display_name": "Python 3"
    }
  },
  "cells": [
    {
      "cell_type": "markdown",
      "metadata": {
        "id": "KJqp9AANOCtf"
      },
      "source": [
        "<img src=\"https://raw.githubusercontent.com/andre-marcos-perez/ebac-course-utils/main/media/logo/newebac_logo_black_half.png\" alt=\"ebac-logo\">\n",
        "\n",
        "---\n",
        "\n",
        "# **Módulo** | Análise de Dados: COVID-19 Dashboard\n",
        "Caderno de **Exercícios**<br>\n",
        "Professor [André Perez](https://www.linkedin.com/in/andremarcosperez/)\n",
        "\n",
        "---"
      ]
    },
    {
      "cell_type": "markdown",
      "metadata": {
        "id": "d9jDtUbDOE1-"
      },
      "source": [
        "# **Tópicos**\n",
        "\n",
        "<ol type=\"1\">\n",
        "  <li>Contexto;</li>\n",
        "  <li>Análise Exploratória de Dados;</li>\n",
        "  <li>Carregamentos dos dados;</li>\n",
        "  <li>Visualização Interativa de Dados;</li>\n",
        "  <li>Storytelling.</li>\n",
        "</ol>\n"
      ]
    },
    {
      "cell_type": "markdown",
      "metadata": {
        "id": "SmoHgt-lwkpD"
      },
      "source": [
        "---"
      ]
    },
    {
      "cell_type": "markdown",
      "metadata": {
        "id": "QRcqbpLpFK5o"
      },
      "source": [
        "# **COVID Dashboard**"
      ]
    },
    {
      "cell_type": "markdown",
      "metadata": {
        "id": "6-CvdKwqFPiW"
      },
      "source": [
        "\n",
        "# **1. Contexto**\n",
        "\n",
        "A pandemia de COVID-19 é uma pandemia global de doença causada pelo coronavírus SARS-CoV-2. O vírus foi identificado pela primeira vez na cidade de Wuhan, na China, em dezembro de 2019. Desde então, o vírus se espalhou para mais de 200 países e territórios, infectando mais de 500 milhões de pessoas e matando mais de 5 milhões. Fonte: OMS\n",
        "\n",
        "Vacinação da COVID-19 - Os dados são compilados pelo projeto Nosso Mundo em Dados (Our World in Data ou OWID) da universidade britânica de Oxford (link). Os dados são atualizados diariamente deste janeiro de 2020 com uma granularidade temporal de dias e geográfica de países. O repositório do projeto pode ser acessado neste link enquanto os dados, neste link."
      ]
    },
    {
      "cell_type": "markdown",
      "metadata": {
        "id": "XRURE1uUFXGw"
      },
      "source": [
        "Escreva uma breve descrição do problema."
      ]
    },
    {
      "cell_type": "markdown",
      "metadata": {
        "id": "QxukLHaqFnkU"
      },
      "source": [
        "## 2\\. Pacotes e bibliotecas"
      ]
    },
    {
      "cell_type": "code",
      "metadata": {
        "id": "VXUEW0VrF7XW"
      },
      "source": [
        "import numpy as np\n",
        "import pandas as pd\n",
        "import seaborn as sb\n",
        "URL = 'https://covid.ourworldindata.org/data/owid-covid-data.csv'\n"
      ],
      "execution_count": 1,
      "outputs": []
    },
    {
      "cell_type": "markdown",
      "metadata": {
        "id": "irQxHW1zGkdZ"
      },
      "source": [
        "## 3\\. Extração"
      ]
    },
    {
      "cell_type": "code",
      "source": [
        "data = pd.read_csv(URL, parse_dates=[3])\n",
        "data.columns.values\n"
      ],
      "metadata": {
        "colab": {
          "base_uri": "https://localhost:8080/"
        },
        "id": "o6xr78pIpZSG",
        "outputId": "33340c0d-ae11-4459-de90-703bfed4258f"
      },
      "execution_count": 2,
      "outputs": [
        {
          "output_type": "execute_result",
          "data": {
            "text/plain": [
              "array(['iso_code', 'continent', 'location', 'date', 'total_cases',\n",
              "       'new_cases', 'new_cases_smoothed', 'total_deaths', 'new_deaths',\n",
              "       'new_deaths_smoothed', 'total_cases_per_million',\n",
              "       'new_cases_per_million', 'new_cases_smoothed_per_million',\n",
              "       'total_deaths_per_million', 'new_deaths_per_million',\n",
              "       'new_deaths_smoothed_per_million', 'reproduction_rate',\n",
              "       'icu_patients', 'icu_patients_per_million', 'hosp_patients',\n",
              "       'hosp_patients_per_million', 'weekly_icu_admissions',\n",
              "       'weekly_icu_admissions_per_million', 'weekly_hosp_admissions',\n",
              "       'weekly_hosp_admissions_per_million', 'total_tests', 'new_tests',\n",
              "       'total_tests_per_thousand', 'new_tests_per_thousand',\n",
              "       'new_tests_smoothed', 'new_tests_smoothed_per_thousand',\n",
              "       'positive_rate', 'tests_per_case', 'tests_units',\n",
              "       'total_vaccinations', 'people_vaccinated',\n",
              "       'people_fully_vaccinated', 'total_boosters', 'new_vaccinations',\n",
              "       'new_vaccinations_smoothed', 'total_vaccinations_per_hundred',\n",
              "       'people_vaccinated_per_hundred',\n",
              "       'people_fully_vaccinated_per_hundred',\n",
              "       'total_boosters_per_hundred',\n",
              "       'new_vaccinations_smoothed_per_million',\n",
              "       'new_people_vaccinated_smoothed',\n",
              "       'new_people_vaccinated_smoothed_per_hundred', 'stringency_index',\n",
              "       'population_density', 'median_age', 'aged_65_older',\n",
              "       'aged_70_older', 'gdp_per_capita', 'extreme_poverty',\n",
              "       'cardiovasc_death_rate', 'diabetes_prevalence', 'female_smokers',\n",
              "       'male_smokers', 'handwashing_facilities',\n",
              "       'hospital_beds_per_thousand', 'life_expectancy',\n",
              "       'human_development_index', 'population',\n",
              "       'excess_mortality_cumulative_absolute',\n",
              "       'excess_mortality_cumulative', 'excess_mortality',\n",
              "       'excess_mortality_cumulative_per_million'], dtype=object)"
            ]
          },
          "metadata": {},
          "execution_count": 2
        }
      ]
    },
    {
      "cell_type": "markdown",
      "metadata": {
        "id": "98hexQTyJS9I"
      },
      "source": [
        "## 4\\. Transformação"
      ]
    },
    {
      "cell_type": "markdown",
      "source": [
        "**Delimitação de interesse:** para a análise usaremos as seguintes colunas:\n",
        "\n",
        "* Data\n",
        "* País\n",
        "* PPC\n",
        "* IDH\n",
        "* Total casos\n",
        "* Total de mortes\n",
        "* Novas mortes\n",
        "* Novos casos por milhão\n",
        "* Novas mortes por milhão\n",
        "* Limitar Data 31-03-2020 até 31-03-2022\n",
        "* Limitar países: Alemanha, EUA, India e Brazil.\n"
      ],
      "metadata": {
        "id": "VVGabT6MqJ--"
      }
    },
    {
      "cell_type": "code",
      "source": [
        "covid = data[['date', 'location', 'gdp_per_capita', 'human_development_index','total_cases', 'total_deaths', 'new_deaths', 'new_cases_per_million', 'new_deaths_per_million']]\n",
        "covid = covid.set_index(keys=['date'])\n",
        "covid = covid['2020-03-31': '2022-03-31']\n",
        "covid = covid.query('location in [\"Germany\", \"United States\", \"India\", \"Brazil\"]')\n"
      ],
      "metadata": {
        "id": "XbTKf672qi8d"
      },
      "execution_count": 3,
      "outputs": []
    },
    {
      "cell_type": "code",
      "source": [
        "# Vamos traduzir os nomes dos países para o Português\n",
        "paises_dic = {\n",
        "    \"Germany\": \"Alemanha\",\n",
        "    \"United States\": \"Estados Unidos\",\n",
        "    \"India\": \"Índia\",\n",
        "    \"Brazil\": \"Brasil\"\n",
        "}\n",
        "covid[\"location\"] = covid[\"location\"].map(paises_dic)"
      ],
      "metadata": {
        "id": "3WIKhDDqqyu9"
      },
      "execution_count": 4,
      "outputs": []
    },
    {
      "cell_type": "code",
      "source": [
        "covid = covid.fillna(method='ffill')\n",
        "covid.info()\n"
      ],
      "metadata": {
        "colab": {
          "base_uri": "https://localhost:8080/"
        },
        "id": "Y9Hk8zEIrc6L",
        "outputId": "f864ce78-1c6b-44b2-a30b-f59f8cfa9d4a"
      },
      "execution_count": 5,
      "outputs": [
        {
          "output_type": "stream",
          "name": "stdout",
          "text": [
            "<class 'pandas.core.frame.DataFrame'>\n",
            "DatetimeIndex: 2924 entries, 2020-03-31 to 2022-03-31\n",
            "Data columns (total 8 columns):\n",
            " #   Column                   Non-Null Count  Dtype  \n",
            "---  ------                   --------------  -----  \n",
            " 0   location                 2924 non-null   object \n",
            " 1   gdp_per_capita           2924 non-null   float64\n",
            " 2   human_development_index  2924 non-null   float64\n",
            " 3   total_cases              2924 non-null   float64\n",
            " 4   total_deaths             2924 non-null   float64\n",
            " 5   new_deaths               2924 non-null   float64\n",
            " 6   new_cases_per_million    2924 non-null   float64\n",
            " 7   new_deaths_per_million   2924 non-null   float64\n",
            "dtypes: float64(7), object(1)\n",
            "memory usage: 205.6+ KB\n"
          ]
        }
      ]
    },
    {
      "cell_type": "code",
      "source": [
        "covid[\"deaths_percent\"] = (covid[\"total_deaths\"]/covid[\"total_cases\"]).round(4)\n",
        "covid.loc['2021'].drop_duplicates('location')\n"
      ],
      "metadata": {
        "colab": {
          "base_uri": "https://localhost:8080/",
          "height": 275
        },
        "id": "xhqm3suqrv_V",
        "outputId": "20220e90-62e1-4dbf-9f4b-5c68abe88280"
      },
      "execution_count": 7,
      "outputs": [
        {
          "output_type": "execute_result",
          "data": {
            "text/plain": [
              "                  location  gdp_per_capita  human_development_index  \\\n",
              "date                                                                  \n",
              "2021-01-01          Brasil       14103.452                    0.765   \n",
              "2021-01-01        Alemanha       45229.245                    0.947   \n",
              "2021-01-01           Índia        6426.674                    0.645   \n",
              "2021-01-01  Estados Unidos       54225.446                    0.926   \n",
              "\n",
              "            total_cases  total_deaths  new_deaths  new_cases_per_million  \\\n",
              "date                                                                       \n",
              "2021-01-01    7448560.0      190488.0         0.0                    0.0   \n",
              "2021-01-01    1660178.0       47009.0         0.0                    0.0   \n",
              "2021-01-01   10187850.0      147622.0         0.0                    0.0   \n",
              "2021-01-01   18890446.0      342920.0         0.0                    0.0   \n",
              "\n",
              "            new_deaths_per_million  deaths_percent  \n",
              "date                                                \n",
              "2021-01-01                     0.0          0.0256  \n",
              "2021-01-01                     0.0          0.0283  \n",
              "2021-01-01                     0.0          0.0145  \n",
              "2021-01-01                     0.0          0.0182  "
            ],
            "text/html": [
              "\n",
              "  <div id=\"df-e9e95380-c8fc-4131-9fdc-911381ca5787\" class=\"colab-df-container\">\n",
              "    <div>\n",
              "<style scoped>\n",
              "    .dataframe tbody tr th:only-of-type {\n",
              "        vertical-align: middle;\n",
              "    }\n",
              "\n",
              "    .dataframe tbody tr th {\n",
              "        vertical-align: top;\n",
              "    }\n",
              "\n",
              "    .dataframe thead th {\n",
              "        text-align: right;\n",
              "    }\n",
              "</style>\n",
              "<table border=\"1\" class=\"dataframe\">\n",
              "  <thead>\n",
              "    <tr style=\"text-align: right;\">\n",
              "      <th></th>\n",
              "      <th>location</th>\n",
              "      <th>gdp_per_capita</th>\n",
              "      <th>human_development_index</th>\n",
              "      <th>total_cases</th>\n",
              "      <th>total_deaths</th>\n",
              "      <th>new_deaths</th>\n",
              "      <th>new_cases_per_million</th>\n",
              "      <th>new_deaths_per_million</th>\n",
              "      <th>deaths_percent</th>\n",
              "    </tr>\n",
              "    <tr>\n",
              "      <th>date</th>\n",
              "      <th></th>\n",
              "      <th></th>\n",
              "      <th></th>\n",
              "      <th></th>\n",
              "      <th></th>\n",
              "      <th></th>\n",
              "      <th></th>\n",
              "      <th></th>\n",
              "      <th></th>\n",
              "    </tr>\n",
              "  </thead>\n",
              "  <tbody>\n",
              "    <tr>\n",
              "      <th>2021-01-01</th>\n",
              "      <td>Brasil</td>\n",
              "      <td>14103.452</td>\n",
              "      <td>0.765</td>\n",
              "      <td>7448560.0</td>\n",
              "      <td>190488.0</td>\n",
              "      <td>0.0</td>\n",
              "      <td>0.0</td>\n",
              "      <td>0.0</td>\n",
              "      <td>0.0256</td>\n",
              "    </tr>\n",
              "    <tr>\n",
              "      <th>2021-01-01</th>\n",
              "      <td>Alemanha</td>\n",
              "      <td>45229.245</td>\n",
              "      <td>0.947</td>\n",
              "      <td>1660178.0</td>\n",
              "      <td>47009.0</td>\n",
              "      <td>0.0</td>\n",
              "      <td>0.0</td>\n",
              "      <td>0.0</td>\n",
              "      <td>0.0283</td>\n",
              "    </tr>\n",
              "    <tr>\n",
              "      <th>2021-01-01</th>\n",
              "      <td>Índia</td>\n",
              "      <td>6426.674</td>\n",
              "      <td>0.645</td>\n",
              "      <td>10187850.0</td>\n",
              "      <td>147622.0</td>\n",
              "      <td>0.0</td>\n",
              "      <td>0.0</td>\n",
              "      <td>0.0</td>\n",
              "      <td>0.0145</td>\n",
              "    </tr>\n",
              "    <tr>\n",
              "      <th>2021-01-01</th>\n",
              "      <td>Estados Unidos</td>\n",
              "      <td>54225.446</td>\n",
              "      <td>0.926</td>\n",
              "      <td>18890446.0</td>\n",
              "      <td>342920.0</td>\n",
              "      <td>0.0</td>\n",
              "      <td>0.0</td>\n",
              "      <td>0.0</td>\n",
              "      <td>0.0182</td>\n",
              "    </tr>\n",
              "  </tbody>\n",
              "</table>\n",
              "</div>\n",
              "    <div class=\"colab-df-buttons\">\n",
              "\n",
              "  <div class=\"colab-df-container\">\n",
              "    <button class=\"colab-df-convert\" onclick=\"convertToInteractive('df-e9e95380-c8fc-4131-9fdc-911381ca5787')\"\n",
              "            title=\"Convert this dataframe to an interactive table.\"\n",
              "            style=\"display:none;\">\n",
              "\n",
              "  <svg xmlns=\"http://www.w3.org/2000/svg\" height=\"24px\" viewBox=\"0 -960 960 960\">\n",
              "    <path d=\"M120-120v-720h720v720H120Zm60-500h600v-160H180v160Zm220 220h160v-160H400v160Zm0 220h160v-160H400v160ZM180-400h160v-160H180v160Zm440 0h160v-160H620v160ZM180-180h160v-160H180v160Zm440 0h160v-160H620v160Z\"/>\n",
              "  </svg>\n",
              "    </button>\n",
              "\n",
              "  <style>\n",
              "    .colab-df-container {\n",
              "      display:flex;\n",
              "      gap: 12px;\n",
              "    }\n",
              "\n",
              "    .colab-df-convert {\n",
              "      background-color: #E8F0FE;\n",
              "      border: none;\n",
              "      border-radius: 50%;\n",
              "      cursor: pointer;\n",
              "      display: none;\n",
              "      fill: #1967D2;\n",
              "      height: 32px;\n",
              "      padding: 0 0 0 0;\n",
              "      width: 32px;\n",
              "    }\n",
              "\n",
              "    .colab-df-convert:hover {\n",
              "      background-color: #E2EBFA;\n",
              "      box-shadow: 0px 1px 2px rgba(60, 64, 67, 0.3), 0px 1px 3px 1px rgba(60, 64, 67, 0.15);\n",
              "      fill: #174EA6;\n",
              "    }\n",
              "\n",
              "    .colab-df-buttons div {\n",
              "      margin-bottom: 4px;\n",
              "    }\n",
              "\n",
              "    [theme=dark] .colab-df-convert {\n",
              "      background-color: #3B4455;\n",
              "      fill: #D2E3FC;\n",
              "    }\n",
              "\n",
              "    [theme=dark] .colab-df-convert:hover {\n",
              "      background-color: #434B5C;\n",
              "      box-shadow: 0px 1px 3px 1px rgba(0, 0, 0, 0.15);\n",
              "      filter: drop-shadow(0px 1px 2px rgba(0, 0, 0, 0.3));\n",
              "      fill: #FFFFFF;\n",
              "    }\n",
              "  </style>\n",
              "\n",
              "    <script>\n",
              "      const buttonEl =\n",
              "        document.querySelector('#df-e9e95380-c8fc-4131-9fdc-911381ca5787 button.colab-df-convert');\n",
              "      buttonEl.style.display =\n",
              "        google.colab.kernel.accessAllowed ? 'block' : 'none';\n",
              "\n",
              "      async function convertToInteractive(key) {\n",
              "        const element = document.querySelector('#df-e9e95380-c8fc-4131-9fdc-911381ca5787');\n",
              "        const dataTable =\n",
              "          await google.colab.kernel.invokeFunction('convertToInteractive',\n",
              "                                                    [key], {});\n",
              "        if (!dataTable) return;\n",
              "\n",
              "        const docLinkHtml = 'Like what you see? Visit the ' +\n",
              "          '<a target=\"_blank\" href=https://colab.research.google.com/notebooks/data_table.ipynb>data table notebook</a>'\n",
              "          + ' to learn more about interactive tables.';\n",
              "        element.innerHTML = '';\n",
              "        dataTable['output_type'] = 'display_data';\n",
              "        await google.colab.output.renderOutput(dataTable, element);\n",
              "        const docLink = document.createElement('div');\n",
              "        docLink.innerHTML = docLinkHtml;\n",
              "        element.appendChild(docLink);\n",
              "      }\n",
              "    </script>\n",
              "  </div>\n",
              "\n",
              "\n",
              "<div id=\"df-687d3ea4-1e32-4bff-9497-cb86c81c83a7\">\n",
              "  <button class=\"colab-df-quickchart\" onclick=\"quickchart('df-687d3ea4-1e32-4bff-9497-cb86c81c83a7')\"\n",
              "            title=\"Suggest charts\"\n",
              "            style=\"display:none;\">\n",
              "\n",
              "<svg xmlns=\"http://www.w3.org/2000/svg\" height=\"24px\"viewBox=\"0 0 24 24\"\n",
              "     width=\"24px\">\n",
              "    <g>\n",
              "        <path d=\"M19 3H5c-1.1 0-2 .9-2 2v14c0 1.1.9 2 2 2h14c1.1 0 2-.9 2-2V5c0-1.1-.9-2-2-2zM9 17H7v-7h2v7zm4 0h-2V7h2v10zm4 0h-2v-4h2v4z\"/>\n",
              "    </g>\n",
              "</svg>\n",
              "  </button>\n",
              "\n",
              "<style>\n",
              "  .colab-df-quickchart {\n",
              "      --bg-color: #E8F0FE;\n",
              "      --fill-color: #1967D2;\n",
              "      --hover-bg-color: #E2EBFA;\n",
              "      --hover-fill-color: #174EA6;\n",
              "      --disabled-fill-color: #AAA;\n",
              "      --disabled-bg-color: #DDD;\n",
              "  }\n",
              "\n",
              "  [theme=dark] .colab-df-quickchart {\n",
              "      --bg-color: #3B4455;\n",
              "      --fill-color: #D2E3FC;\n",
              "      --hover-bg-color: #434B5C;\n",
              "      --hover-fill-color: #FFFFFF;\n",
              "      --disabled-bg-color: #3B4455;\n",
              "      --disabled-fill-color: #666;\n",
              "  }\n",
              "\n",
              "  .colab-df-quickchart {\n",
              "    background-color: var(--bg-color);\n",
              "    border: none;\n",
              "    border-radius: 50%;\n",
              "    cursor: pointer;\n",
              "    display: none;\n",
              "    fill: var(--fill-color);\n",
              "    height: 32px;\n",
              "    padding: 0;\n",
              "    width: 32px;\n",
              "  }\n",
              "\n",
              "  .colab-df-quickchart:hover {\n",
              "    background-color: var(--hover-bg-color);\n",
              "    box-shadow: 0 1px 2px rgba(60, 64, 67, 0.3), 0 1px 3px 1px rgba(60, 64, 67, 0.15);\n",
              "    fill: var(--button-hover-fill-color);\n",
              "  }\n",
              "\n",
              "  .colab-df-quickchart-complete:disabled,\n",
              "  .colab-df-quickchart-complete:disabled:hover {\n",
              "    background-color: var(--disabled-bg-color);\n",
              "    fill: var(--disabled-fill-color);\n",
              "    box-shadow: none;\n",
              "  }\n",
              "\n",
              "  .colab-df-spinner {\n",
              "    border: 2px solid var(--fill-color);\n",
              "    border-color: transparent;\n",
              "    border-bottom-color: var(--fill-color);\n",
              "    animation:\n",
              "      spin 1s steps(1) infinite;\n",
              "  }\n",
              "\n",
              "  @keyframes spin {\n",
              "    0% {\n",
              "      border-color: transparent;\n",
              "      border-bottom-color: var(--fill-color);\n",
              "      border-left-color: var(--fill-color);\n",
              "    }\n",
              "    20% {\n",
              "      border-color: transparent;\n",
              "      border-left-color: var(--fill-color);\n",
              "      border-top-color: var(--fill-color);\n",
              "    }\n",
              "    30% {\n",
              "      border-color: transparent;\n",
              "      border-left-color: var(--fill-color);\n",
              "      border-top-color: var(--fill-color);\n",
              "      border-right-color: var(--fill-color);\n",
              "    }\n",
              "    40% {\n",
              "      border-color: transparent;\n",
              "      border-right-color: var(--fill-color);\n",
              "      border-top-color: var(--fill-color);\n",
              "    }\n",
              "    60% {\n",
              "      border-color: transparent;\n",
              "      border-right-color: var(--fill-color);\n",
              "    }\n",
              "    80% {\n",
              "      border-color: transparent;\n",
              "      border-right-color: var(--fill-color);\n",
              "      border-bottom-color: var(--fill-color);\n",
              "    }\n",
              "    90% {\n",
              "      border-color: transparent;\n",
              "      border-bottom-color: var(--fill-color);\n",
              "    }\n",
              "  }\n",
              "</style>\n",
              "\n",
              "  <script>\n",
              "    async function quickchart(key) {\n",
              "      const quickchartButtonEl =\n",
              "        document.querySelector('#' + key + ' button');\n",
              "      quickchartButtonEl.disabled = true;  // To prevent multiple clicks.\n",
              "      quickchartButtonEl.classList.add('colab-df-spinner');\n",
              "      try {\n",
              "        const charts = await google.colab.kernel.invokeFunction(\n",
              "            'suggestCharts', [key], {});\n",
              "      } catch (error) {\n",
              "        console.error('Error during call to suggestCharts:', error);\n",
              "      }\n",
              "      quickchartButtonEl.classList.remove('colab-df-spinner');\n",
              "      quickchartButtonEl.classList.add('colab-df-quickchart-complete');\n",
              "    }\n",
              "    (() => {\n",
              "      let quickchartButtonEl =\n",
              "        document.querySelector('#df-687d3ea4-1e32-4bff-9497-cb86c81c83a7 button');\n",
              "      quickchartButtonEl.style.display =\n",
              "        google.colab.kernel.accessAllowed ? 'block' : 'none';\n",
              "    })();\n",
              "  </script>\n",
              "</div>\n",
              "\n",
              "    </div>\n",
              "  </div>\n"
            ],
            "application/vnd.google.colaboratory.intrinsic+json": {
              "type": "dataframe",
              "summary": "{\n  \"name\": \"covid\",\n  \"rows\": 4,\n  \"fields\": [\n    {\n      \"column\": \"date\",\n      \"properties\": {\n        \"dtype\": \"date\",\n        \"min\": \"2021-01-01 00:00:00\",\n        \"max\": \"2021-01-01 00:00:00\",\n        \"num_unique_values\": 1,\n        \"samples\": [\n          \"2021-01-01 00:00:00\"\n        ],\n        \"semantic_type\": \"\",\n        \"description\": \"\"\n      }\n    },\n    {\n      \"column\": \"location\",\n      \"properties\": {\n        \"dtype\": \"string\",\n        \"num_unique_values\": 4,\n        \"samples\": [\n          \"Alemanha\"\n        ],\n        \"semantic_type\": \"\",\n        \"description\": \"\"\n      }\n    },\n    {\n      \"column\": \"gdp_per_capita\",\n      \"properties\": {\n        \"dtype\": \"number\",\n        \"std\": 23289.51134850657,\n        \"min\": 6426.674,\n        \"max\": 54225.446,\n        \"num_unique_values\": 4,\n        \"samples\": [\n          45229.245\n        ],\n        \"semantic_type\": \"\",\n        \"description\": \"\"\n      }\n    },\n    {\n      \"column\": \"human_development_index\",\n      \"properties\": {\n        \"dtype\": \"number\",\n        \"std\": 0.14260989914214697,\n        \"min\": 0.645,\n        \"max\": 0.947,\n        \"num_unique_values\": 4,\n        \"samples\": [\n          0.947\n        ],\n        \"semantic_type\": \"\",\n        \"description\": \"\"\n      }\n    },\n    {\n      \"column\": \"total_cases\",\n      \"properties\": {\n        \"dtype\": \"number\",\n        \"std\": 7172077.414933812,\n        \"min\": 1660178.0,\n        \"max\": 18890446.0,\n        \"num_unique_values\": 4,\n        \"samples\": [\n          1660178.0\n        ],\n        \"semantic_type\": \"\",\n        \"description\": \"\"\n      }\n    },\n    {\n      \"column\": \"total_deaths\",\n      \"properties\": {\n        \"dtype\": \"number\",\n        \"std\": 122979.27891688366,\n        \"min\": 47009.0,\n        \"max\": 342920.0,\n        \"num_unique_values\": 4,\n        \"samples\": [\n          47009.0\n        ],\n        \"semantic_type\": \"\",\n        \"description\": \"\"\n      }\n    },\n    {\n      \"column\": \"new_deaths\",\n      \"properties\": {\n        \"dtype\": \"number\",\n        \"std\": 0.0,\n        \"min\": 0.0,\n        \"max\": 0.0,\n        \"num_unique_values\": 1,\n        \"samples\": [\n          0.0\n        ],\n        \"semantic_type\": \"\",\n        \"description\": \"\"\n      }\n    },\n    {\n      \"column\": \"new_cases_per_million\",\n      \"properties\": {\n        \"dtype\": \"number\",\n        \"std\": 0.0,\n        \"min\": 0.0,\n        \"max\": 0.0,\n        \"num_unique_values\": 1,\n        \"samples\": [\n          0.0\n        ],\n        \"semantic_type\": \"\",\n        \"description\": \"\"\n      }\n    },\n    {\n      \"column\": \"new_deaths_per_million\",\n      \"properties\": {\n        \"dtype\": \"number\",\n        \"std\": 0.0,\n        \"min\": 0.0,\n        \"max\": 0.0,\n        \"num_unique_values\": 1,\n        \"samples\": [\n          0.0\n        ],\n        \"semantic_type\": \"\",\n        \"description\": \"\"\n      }\n    },\n    {\n      \"column\": \"deaths_percent\",\n      \"properties\": {\n        \"dtype\": \"number\",\n        \"std\": 0.006399218702310462,\n        \"min\": 0.0145,\n        \"max\": 0.0283,\n        \"num_unique_values\": 4,\n        \"samples\": [\n          0.0283\n        ],\n        \"semantic_type\": \"\",\n        \"description\": \"\"\n      }\n    }\n  ]\n}"
            }
          },
          "metadata": {},
          "execution_count": 7
        }
      ]
    },
    {
      "cell_type": "markdown",
      "metadata": {
        "id": "KSgjP--1JS9R"
      },
      "source": [
        "## 5\\. Carregamento"
      ]
    },
    {
      "cell_type": "code",
      "source": [
        "covid.to_csv('./covid.csv', sep=',', index=True)"
      ],
      "metadata": {
        "id": "pUajON21r9IL"
      },
      "execution_count": 8,
      "outputs": []
    },
    {
      "cell_type": "markdown",
      "source": [
        "# **Dados publicados:**\n",
        "\n",
        "* Dashboard: Google Data Studio ([link](https://lookerstudio.google.com/reporting/ebc436ad-b403-427a-ac49-5f1ce20f0eee)).\n",
        "* Processamento: Kaggle Notebook ([link](https://www.kaggle.com/code/diogosouza95/an-lise-de-dados-covid-19)).\n",
        "* Fonte de dados: Universidade de Oxford ([link](https://github.com/owid/covid-19-data/tree/master/public/data))."
      ],
      "metadata": {
        "id": "FL7l0bB4s7tN"
      }
    },
    {
      "cell_type": "markdown",
      "source": [
        "# **Storytelling**\n",
        "\n",
        "O estudo analisou o impacto da pandemia de COVID-19 de 2020 a 2022 em quatro países: Brasil, Alemanha, Índia e Estados Unidos. Focando nas variáveis do Índice de Desenvolvimento Humano (IDH) e Produto Interno Bruto (PIB), o objetivo foi entender se há uma correlação direta entre esses indicadores e o número de mortes por milhão de habitantes.\n",
        "\n",
        "**Resultados Principais:**\n",
        " * 1. Desempenho Variado ao Longo do Tempo:\n",
        "\n",
        "Os gráficos de linhas revelaram que todos os países tiveram picos de casos e mortes em diferentes períodos. O Brasil e a Índia experimentaram picos acentuados em várias ondas, enquanto Alemanha e Estados Unidos também enfrentaram ondas severas, mas em diferentes momentos.\n",
        "\n",
        "* 2. IDH vs. Novas Mortes por Milhão:\n",
        "\n",
        "A análise de dispersão mostrou que não há uma correlação clara entre o IDH e o número de novas mortes por milhão. Países com alto IDH, como Alemanha e Estados Unidos, e países com IDH relativamente mais baixo, como Índia e Brasil, tiveram variações significativas em novas mortes por milhão.\n",
        "\n",
        "* 3. PIB vs. Novas Mortes por Milhão:\n",
        "\n",
        "De forma semelhante, o PIB per capita não mostrou uma relação direta com as novas mortes por milhão. Isso sugere que a riqueza econômica por si só não garantiu melhores resultados em termos de controle de mortalidade da pandemia.\n"
      ],
      "metadata": {
        "id": "FaO2FzbH5Ul7"
      }
    },
    {
      "cell_type": "code",
      "source": [],
      "metadata": {
        "id": "vI5D3seM54tt"
      },
      "execution_count": null,
      "outputs": []
    }
  ]
}